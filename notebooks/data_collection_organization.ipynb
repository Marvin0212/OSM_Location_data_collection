{
 "cells": [
  {
   "cell_type": "markdown",
   "id": "672f482d",
   "metadata": {},
   "source": [
    "# Organization Data Collection\n",
    "This notebook queries OpenStreetMap via the Overpass API to gather German organization names based on several tags."
   ]
  },
  {
   "cell_type": "code",
   "execution_count": null,
   "id": "0f6764aa",
   "metadata": {},
   "outputs": [],
   "source": [
    "import overpy, pathlib\n",
    "\n",
    "# Tags that represent organizations in OSM\n",
    "TAGS = [\"office\", \"craft\", \"club\", \"industrial\"]\n",
    "API = overpy.Overpass()\n"
   ]
  },
  {
   "cell_type": "code",
   "execution_count": null,
   "id": "07a57c4c",
   "metadata": {},
   "outputs": [],
   "source": [
    "names = set()\n",
    "QUERY_TMPL = \"\"\"\n",
    "[out:json];\n",
    "area[\"ISO3166-1\"=\"DE\"][admin_level=2]->.de;\n",
    "node[{tag}][\"name\"](area.de);\n",
    "out body;\n",
    "\"\"\"\n",
    "\n",
    "for tag in TAGS:\n",
    "    q = QUERY_TMPL.format(tag=tag)\n",
    "    print(f\"→ querying {tag} …\", end=\" \")\n",
    "    result = API.query(q)\n",
    "    print(f\"{len(result.nodes):,} nodes\")\n",
    "    for n in result.nodes:\n",
    "        name = (n.tags.get(\"name\") or \"\").strip()\n",
    "        if name and name.lower() != \"no name\":\n",
    "            names.add(name)\n",
    "\n",
    "print(f\"\n",
    "Total unique names: {len(names):,}\")\n"
   ]
  },
  {
   "cell_type": "code",
   "execution_count": null,
   "id": "6dabe410",
   "metadata": {},
   "outputs": [],
   "source": [
    "out_path = pathlib.Path(\"data/organization\")\n",
    "out_path.mkdir(parents=True, exist_ok=True)\n",
    "with out_path.joinpath(\"organizations_office_craft_club_industrial.txt\").open(\"w\", encoding=\"utf-8\") as fh:\n",
    "    for name in sorted(names, key=str.casefold):\n",
    "        fh.write(name + \"\n",
    "\")\n",
    "print(\"Saved to\", fh.name)\n"
   ]
  }
 ],
 "metadata": {
  "kernelspec": {
   "display_name": "Python 3",
   "language": "python",
   "name": "python3"
  },
  "language_info": {
   "name": "python",
   "pygments_lexer": "ipython3"
  }
 },
 "nbformat": 4,
 "nbformat_minor": 5
}
